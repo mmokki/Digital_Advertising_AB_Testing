{
 "cells": [
  {
   "cell_type": "markdown",
   "metadata": {},
   "source": [
    "## Digital Advertising A/B Testing Result Analysis\n",
    "Jing Li"
   ]
  },
  {
   "cell_type": "code",
   "execution_count": 1,
   "metadata": {},
   "outputs": [],
   "source": [
    "import pandas as pd\n",
    "import numpy as np\n",
    "import scipy.stats as stats"
   ]
  },
  {
   "cell_type": "code",
   "execution_count": 2,
   "metadata": {},
   "outputs": [
    {
     "data": {
      "text/html": [
       "<div>\n",
       "<style scoped>\n",
       "    .dataframe tbody tr th:only-of-type {\n",
       "        vertical-align: middle;\n",
       "    }\n",
       "\n",
       "    .dataframe tbody tr th {\n",
       "        vertical-align: top;\n",
       "    }\n",
       "\n",
       "    .dataframe thead th {\n",
       "        text-align: right;\n",
       "    }\n",
       "</style>\n",
       "<table border=\"1\" class=\"dataframe\">\n",
       "  <thead>\n",
       "    <tr style=\"text-align: right;\">\n",
       "      <th></th>\n",
       "      <th>id</th>\n",
       "      <th>test</th>\n",
       "      <th>purchase</th>\n",
       "      <th>site</th>\n",
       "      <th>impressions</th>\n",
       "      <th>income</th>\n",
       "      <th>gender</th>\n",
       "      <th>gamer</th>\n",
       "    </tr>\n",
       "  </thead>\n",
       "  <tbody>\n",
       "    <tr>\n",
       "      <th>0</th>\n",
       "      <td>1956</td>\n",
       "      <td>0</td>\n",
       "      <td>0</td>\n",
       "      <td>site1</td>\n",
       "      <td>0</td>\n",
       "      <td>100</td>\n",
       "      <td>1</td>\n",
       "      <td>0</td>\n",
       "    </tr>\n",
       "    <tr>\n",
       "      <th>1</th>\n",
       "      <td>45821</td>\n",
       "      <td>1</td>\n",
       "      <td>0</td>\n",
       "      <td>site1</td>\n",
       "      <td>20</td>\n",
       "      <td>70</td>\n",
       "      <td>1</td>\n",
       "      <td>0</td>\n",
       "    </tr>\n",
       "    <tr>\n",
       "      <th>2</th>\n",
       "      <td>59690</td>\n",
       "      <td>1</td>\n",
       "      <td>0</td>\n",
       "      <td>site1</td>\n",
       "      <td>22</td>\n",
       "      <td>100</td>\n",
       "      <td>1</td>\n",
       "      <td>0</td>\n",
       "    </tr>\n",
       "    <tr>\n",
       "      <th>3</th>\n",
       "      <td>18851</td>\n",
       "      <td>0</td>\n",
       "      <td>0</td>\n",
       "      <td>site1</td>\n",
       "      <td>13</td>\n",
       "      <td>90</td>\n",
       "      <td>1</td>\n",
       "      <td>0</td>\n",
       "    </tr>\n",
       "    <tr>\n",
       "      <th>4</th>\n",
       "      <td>60647</td>\n",
       "      <td>1</td>\n",
       "      <td>0</td>\n",
       "      <td>site1</td>\n",
       "      <td>12</td>\n",
       "      <td>60</td>\n",
       "      <td>1</td>\n",
       "      <td>0</td>\n",
       "    </tr>\n",
       "  </tbody>\n",
       "</table>\n",
       "</div>"
      ],
      "text/plain": [
       "      id  test  purchase   site  impressions  income  gender  gamer\n",
       "0   1956     0         0  site1            0     100       1      0\n",
       "1  45821     1         0  site1           20      70       1      0\n",
       "2  59690     1         0  site1           22     100       1      0\n",
       "3  18851     0         0  site1           13      90       1      0\n",
       "4  60647     1         0  site1           12      60       1      0"
      ]
     },
     "execution_count": 2,
     "metadata": {},
     "output_type": "execute_result"
    }
   ],
   "source": [
    "gamefun = pd.read_excel(\"GameFun.xlsx\")\n",
    "gamefun.head()"
   ]
  },
  {
   "cell_type": "code",
   "execution_count": 3,
   "metadata": {},
   "outputs": [
    {
     "data": {
      "text/html": [
       "<div>\n",
       "<style scoped>\n",
       "    .dataframe tbody tr th:only-of-type {\n",
       "        vertical-align: middle;\n",
       "    }\n",
       "\n",
       "    .dataframe tbody tr th {\n",
       "        vertical-align: top;\n",
       "    }\n",
       "\n",
       "    .dataframe thead th {\n",
       "        text-align: right;\n",
       "    }\n",
       "</style>\n",
       "<table border=\"1\" class=\"dataframe\">\n",
       "  <thead>\n",
       "    <tr style=\"text-align: right;\">\n",
       "      <th></th>\n",
       "      <th>id</th>\n",
       "      <th>test</th>\n",
       "      <th>purchase</th>\n",
       "      <th>impressions</th>\n",
       "      <th>income</th>\n",
       "      <th>gender</th>\n",
       "      <th>gamer</th>\n",
       "    </tr>\n",
       "  </thead>\n",
       "  <tbody>\n",
       "    <tr>\n",
       "      <th>count</th>\n",
       "      <td>40048.000000</td>\n",
       "      <td>40048.000000</td>\n",
       "      <td>40048.000000</td>\n",
       "      <td>40048.000000</td>\n",
       "      <td>40048.000000</td>\n",
       "      <td>40048.000000</td>\n",
       "      <td>40048.000000</td>\n",
       "    </tr>\n",
       "    <tr>\n",
       "      <th>mean</th>\n",
       "      <td>33965.738564</td>\n",
       "      <td>0.701433</td>\n",
       "      <td>0.064697</td>\n",
       "      <td>66.115137</td>\n",
       "      <td>55.006243</td>\n",
       "      <td>0.647473</td>\n",
       "      <td>0.601478</td>\n",
       "    </tr>\n",
       "    <tr>\n",
       "      <th>std</th>\n",
       "      <td>19485.640324</td>\n",
       "      <td>0.457635</td>\n",
       "      <td>0.245994</td>\n",
       "      <td>95.188408</td>\n",
       "      <td>13.718012</td>\n",
       "      <td>0.477763</td>\n",
       "      <td>0.489600</td>\n",
       "    </tr>\n",
       "    <tr>\n",
       "      <th>min</th>\n",
       "      <td>1.000000</td>\n",
       "      <td>0.000000</td>\n",
       "      <td>0.000000</td>\n",
       "      <td>0.000000</td>\n",
       "      <td>20.000000</td>\n",
       "      <td>0.000000</td>\n",
       "      <td>0.000000</td>\n",
       "    </tr>\n",
       "    <tr>\n",
       "      <th>25%</th>\n",
       "      <td>17133.750000</td>\n",
       "      <td>0.000000</td>\n",
       "      <td>0.000000</td>\n",
       "      <td>4.000000</td>\n",
       "      <td>50.000000</td>\n",
       "      <td>0.000000</td>\n",
       "      <td>0.000000</td>\n",
       "    </tr>\n",
       "    <tr>\n",
       "      <th>50%</th>\n",
       "      <td>33968.500000</td>\n",
       "      <td>1.000000</td>\n",
       "      <td>0.000000</td>\n",
       "      <td>20.000000</td>\n",
       "      <td>50.000000</td>\n",
       "      <td>1.000000</td>\n",
       "      <td>1.000000</td>\n",
       "    </tr>\n",
       "    <tr>\n",
       "      <th>75%</th>\n",
       "      <td>50797.250000</td>\n",
       "      <td>1.000000</td>\n",
       "      <td>0.000000</td>\n",
       "      <td>88.000000</td>\n",
       "      <td>60.000000</td>\n",
       "      <td>1.000000</td>\n",
       "      <td>1.000000</td>\n",
       "    </tr>\n",
       "    <tr>\n",
       "      <th>max</th>\n",
       "      <td>67747.000000</td>\n",
       "      <td>1.000000</td>\n",
       "      <td>1.000000</td>\n",
       "      <td>403.000000</td>\n",
       "      <td>140.000000</td>\n",
       "      <td>1.000000</td>\n",
       "      <td>1.000000</td>\n",
       "    </tr>\n",
       "  </tbody>\n",
       "</table>\n",
       "</div>"
      ],
      "text/plain": [
       "                 id          test      purchase   impressions        income  \\\n",
       "count  40048.000000  40048.000000  40048.000000  40048.000000  40048.000000   \n",
       "mean   33965.738564      0.701433      0.064697     66.115137     55.006243   \n",
       "std    19485.640324      0.457635      0.245994     95.188408     13.718012   \n",
       "min        1.000000      0.000000      0.000000      0.000000     20.000000   \n",
       "25%    17133.750000      0.000000      0.000000      4.000000     50.000000   \n",
       "50%    33968.500000      1.000000      0.000000     20.000000     50.000000   \n",
       "75%    50797.250000      1.000000      0.000000     88.000000     60.000000   \n",
       "max    67747.000000      1.000000      1.000000    403.000000    140.000000   \n",
       "\n",
       "             gender         gamer  \n",
       "count  40048.000000  40048.000000  \n",
       "mean       0.647473      0.601478  \n",
       "std        0.477763      0.489600  \n",
       "min        0.000000      0.000000  \n",
       "25%        0.000000      0.000000  \n",
       "50%        1.000000      1.000000  \n",
       "75%        1.000000      1.000000  \n",
       "max        1.000000      1.000000  "
      ]
     },
     "execution_count": 3,
     "metadata": {},
     "output_type": "execute_result"
    }
   ],
   "source": [
    "gamefun.describe()"
   ]
  },
  {
   "cell_type": "markdown",
   "metadata": {},
   "source": [
    "### 1. Before evaluating the effect of an experiment, it is important to make sure that the experiment was executed correctly. Check whether the test and control groups are probabilistically equivalent on their observables."
   ]
  },
  {
   "cell_type": "code",
   "execution_count": 4,
   "metadata": {},
   "outputs": [
    {
     "data": {
      "text/html": [
       "<div>\n",
       "<style scoped>\n",
       "    .dataframe tbody tr th:only-of-type {\n",
       "        vertical-align: middle;\n",
       "    }\n",
       "\n",
       "    .dataframe tbody tr th {\n",
       "        vertical-align: top;\n",
       "    }\n",
       "\n",
       "    .dataframe thead th {\n",
       "        text-align: right;\n",
       "    }\n",
       "</style>\n",
       "<table border=\"1\" class=\"dataframe\">\n",
       "  <thead>\n",
       "    <tr style=\"text-align: right;\">\n",
       "      <th>test</th>\n",
       "      <th>0</th>\n",
       "      <th>1</th>\n",
       "      <th>% diff</th>\n",
       "    </tr>\n",
       "  </thead>\n",
       "  <tbody>\n",
       "    <tr>\n",
       "      <th>gamer</th>\n",
       "      <td>0.601823</td>\n",
       "      <td>0.601331</td>\n",
       "      <td>-0.000817</td>\n",
       "    </tr>\n",
       "    <tr>\n",
       "      <th>gender</th>\n",
       "      <td>0.647905</td>\n",
       "      <td>0.647289</td>\n",
       "      <td>-0.000950</td>\n",
       "    </tr>\n",
       "    <tr>\n",
       "      <th>income</th>\n",
       "      <td>55.166012</td>\n",
       "      <td>54.938236</td>\n",
       "      <td>-0.004129</td>\n",
       "    </tr>\n",
       "  </tbody>\n",
       "</table>\n",
       "</div>"
      ],
      "text/plain": [
       "test            0          1    % diff\n",
       "gamer    0.601823   0.601331 -0.000817\n",
       "gender   0.647905   0.647289 -0.000950\n",
       "income  55.166012  54.938236 -0.004129"
      ]
     },
     "execution_count": 4,
     "metadata": {},
     "output_type": "execute_result"
    }
   ],
   "source": [
    "table_1 = pd.pivot_table(gamefun, values=['income','gender','gamer'], columns=['test'], aggfunc=np.mean)\n",
    "# Calculate the differece in percentage(*100)\n",
    "table_1['% diff'] = ((table_1[1] - table_1[0]) / table_1[0])\n",
    "table_1"
   ]
  },
  {
   "cell_type": "code",
   "execution_count": 5,
   "metadata": {},
   "outputs": [
    {
     "name": "stdout",
     "output_type": "stream",
     "text": [
      "t score is:  1.520640253683462\n",
      "p value is:  0.1283580345995143\n",
      "There is no statistically significant difference in average income between test and control group.\n"
     ]
    }
   ],
   "source": [
    "# T-test for income\n",
    "t_stat, p_val = stats.ttest_ind(gamefun[gamefun['test']==0]['income'], gamefun[gamefun['test']==1]['income'], equal_var=True)\n",
    "print(\"t score is: \",t_stat)\n",
    "print(\"p value is: \",p_val)\n",
    "if p_val < 0.05:\n",
    "    print(\"There is statistically significant difference in average income between test and control group.\")\n",
    "else:\n",
    "    print(\"There is no statistically significant difference in average income between test and control group.\")"
   ]
  },
  {
   "cell_type": "code",
   "execution_count": 6,
   "metadata": {},
   "outputs": [
    {
     "name": "stdout",
     "output_type": "stream",
     "text": [
      "t score is:  0.11804408014871089\n",
      "p value is:  0.906033323148871\n",
      "There is no statistically significant difference in average gender between test and control group.\n"
     ]
    }
   ],
   "source": [
    "# T-test for gender\n",
    "t_stat, p_val = stats.ttest_ind(gamefun[gamefun['test']==0]['gender'], gamefun[gamefun['test']==1]['gender'], equal_var=True)\n",
    "print(\"t score is: \",t_stat)\n",
    "print(\"p value is: \",p_val)\n",
    "if p_val < 0.05:\n",
    "    print(\"There is statistically significant difference in average gender between test and control group.\")\n",
    "else:\n",
    "    print(\"There is no statistically significant difference in average gender between test and control group.\")"
   ]
  },
  {
   "cell_type": "code",
   "execution_count": 7,
   "metadata": {},
   "outputs": [
    {
     "name": "stdout",
     "output_type": "stream",
     "text": [
      "t score is:  0.09199349089131977\n",
      "p value is:  0.9267036713286598\n",
      "There is no statistically significant difference in average gamer between test and control group.\n"
     ]
    }
   ],
   "source": [
    "# T-test for gamer\n",
    "t_stat, p_val = stats.ttest_ind(gamefun[gamefun['test']==0]['gamer'], gamefun[gamefun['test']==1]['gamer'], equal_var=True)\n",
    "print(\"t score is: \",t_stat)\n",
    "print(\"p value is: \",p_val)\n",
    "if p_val < 0.05:\n",
    "    print(\"There is statistically significant difference in average gamer between test and control group.\")\n",
    "else:\n",
    "    print(\"There is no statistically significant difference in average gamer between test and control group.\")"
   ]
  },
  {
   "cell_type": "markdown",
   "metadata": {},
   "source": [
    "#### Summary"
   ]
  },
  {
   "cell_type": "markdown",
   "metadata": {},
   "source": [
    "Let's take income as an example. The average income is 55.17k and 54.94k for control and test group respectively and the percentage differece is only 0.41% which indicates the two groups are very similar regarding to income. In order to verify the two groups of people are really statistically similar in income, I used two sample t-test to test the hypothesis that the average income of the two groups are equal. The result tells p value is greater than 0.05(significance level), we can not reject the null hypothesis which means I accept it.\n",
    "\n",
    "It is the same for gender and gamer.\n",
    "\n",
    "So the result shows that in terms of these three aspects, different customers have equivalent chance to be selected in test or control group, which means we have probabilistic equivalent sample for the two groups. It guarantees the accuracy and efficiency of the A/B test."
   ]
  },
  {
   "cell_type": "markdown",
   "metadata": {},
   "source": [
    "### 2. Evaluate the average purchase rates in the test and control for the following groups. For each comparison, report the average purchase rate for the test, average purchase rate for the control and the absolute difference between the test and control."
   ]
  },
  {
   "cell_type": "markdown",
   "metadata": {},
   "source": [
    "#### a. Comparison 1: All customers"
   ]
  },
  {
   "cell_type": "code",
   "execution_count": 8,
   "metadata": {},
   "outputs": [
    {
     "data": {
      "text/html": [
       "<div>\n",
       "<style scoped>\n",
       "    .dataframe tbody tr th:only-of-type {\n",
       "        vertical-align: middle;\n",
       "    }\n",
       "\n",
       "    .dataframe tbody tr th {\n",
       "        vertical-align: top;\n",
       "    }\n",
       "\n",
       "    .dataframe thead th {\n",
       "        text-align: right;\n",
       "    }\n",
       "</style>\n",
       "<table border=\"1\" class=\"dataframe\">\n",
       "  <thead>\n",
       "    <tr style=\"text-align: right;\">\n",
       "      <th>test</th>\n",
       "      <th>0</th>\n",
       "      <th>1</th>\n",
       "      <th>diff</th>\n",
       "    </tr>\n",
       "  </thead>\n",
       "  <tbody>\n",
       "    <tr>\n",
       "      <th>purchase</th>\n",
       "      <td>0.036213</td>\n",
       "      <td>0.076822</td>\n",
       "      <td>0.040609</td>\n",
       "    </tr>\n",
       "  </tbody>\n",
       "</table>\n",
       "</div>"
      ],
      "text/plain": [
       "test             0         1      diff\n",
       "purchase  0.036213  0.076822  0.040609"
      ]
     },
     "execution_count": 8,
     "metadata": {},
     "output_type": "execute_result"
    }
   ],
   "source": [
    "table_2 = pd.pivot_table(gamefun, values=['purchase'], columns=['test'], aggfunc=np.mean)\n",
    "table_2['diff'] = table_2[1] - table_2[0]\n",
    "table_2"
   ]
  },
  {
   "cell_type": "markdown",
   "metadata": {},
   "source": [
    "#### b. Comparison 2: Male vs Female customers"
   ]
  },
  {
   "cell_type": "code",
   "execution_count": 9,
   "metadata": {},
   "outputs": [
    {
     "data": {
      "text/html": [
       "<div>\n",
       "<style scoped>\n",
       "    .dataframe tbody tr th:only-of-type {\n",
       "        vertical-align: middle;\n",
       "    }\n",
       "\n",
       "    .dataframe tbody tr th {\n",
       "        vertical-align: top;\n",
       "    }\n",
       "\n",
       "    .dataframe thead th {\n",
       "        text-align: right;\n",
       "    }\n",
       "</style>\n",
       "<table border=\"1\" class=\"dataframe\">\n",
       "  <thead>\n",
       "    <tr style=\"text-align: right;\">\n",
       "      <th>test</th>\n",
       "      <th>0</th>\n",
       "      <th>1</th>\n",
       "      <th>diff</th>\n",
       "    </tr>\n",
       "    <tr>\n",
       "      <th>gender</th>\n",
       "      <th></th>\n",
       "      <th></th>\n",
       "      <th></th>\n",
       "    </tr>\n",
       "  </thead>\n",
       "  <tbody>\n",
       "    <tr>\n",
       "      <th>0</th>\n",
       "      <td>0.034442</td>\n",
       "      <td>0.080945</td>\n",
       "      <td>0.046503</td>\n",
       "    </tr>\n",
       "    <tr>\n",
       "      <th>1</th>\n",
       "      <td>0.037176</td>\n",
       "      <td>0.074575</td>\n",
       "      <td>0.037399</td>\n",
       "    </tr>\n",
       "  </tbody>\n",
       "</table>\n",
       "</div>"
      ],
      "text/plain": [
       "test           0         1      diff\n",
       "gender                              \n",
       "0       0.034442  0.080945  0.046503\n",
       "1       0.037176  0.074575  0.037399"
      ]
     },
     "execution_count": 9,
     "metadata": {},
     "output_type": "execute_result"
    }
   ],
   "source": [
    "table_3 = pd.pivot_table(gamefun, index=['gender'] ,values=['purchase'], columns=['test'], aggfunc=np.mean)['purchase']\n",
    "table_3['diff'] = table_3[1] - table_3[0]\n",
    "table_3"
   ]
  },
  {
   "cell_type": "markdown",
   "metadata": {},
   "source": [
    "#### c. Comparison 3: Gamers vs Non-Gamers Customers"
   ]
  },
  {
   "cell_type": "code",
   "execution_count": 10,
   "metadata": {},
   "outputs": [
    {
     "data": {
      "text/html": [
       "<div>\n",
       "<style scoped>\n",
       "    .dataframe tbody tr th:only-of-type {\n",
       "        vertical-align: middle;\n",
       "    }\n",
       "\n",
       "    .dataframe tbody tr th {\n",
       "        vertical-align: top;\n",
       "    }\n",
       "\n",
       "    .dataframe thead th {\n",
       "        text-align: right;\n",
       "    }\n",
       "</style>\n",
       "<table border=\"1\" class=\"dataframe\">\n",
       "  <thead>\n",
       "    <tr style=\"text-align: right;\">\n",
       "      <th>test</th>\n",
       "      <th>0</th>\n",
       "      <th>1</th>\n",
       "      <th>diff</th>\n",
       "    </tr>\n",
       "    <tr>\n",
       "      <th>gamer</th>\n",
       "      <th></th>\n",
       "      <th></th>\n",
       "      <th></th>\n",
       "    </tr>\n",
       "  </thead>\n",
       "  <tbody>\n",
       "    <tr>\n",
       "      <th>0</th>\n",
       "      <td>0.037387</td>\n",
       "      <td>0.035092</td>\n",
       "      <td>-0.002295</td>\n",
       "    </tr>\n",
       "    <tr>\n",
       "      <th>1</th>\n",
       "      <td>0.035436</td>\n",
       "      <td>0.104487</td>\n",
       "      <td>0.069051</td>\n",
       "    </tr>\n",
       "  </tbody>\n",
       "</table>\n",
       "</div>"
      ],
      "text/plain": [
       "test          0         1      diff\n",
       "gamer                              \n",
       "0      0.037387  0.035092 -0.002295\n",
       "1      0.035436  0.104487  0.069051"
      ]
     },
     "execution_count": 10,
     "metadata": {},
     "output_type": "execute_result"
    }
   ],
   "source": [
    "table_4 = pd.pivot_table(gamefun, index=['gamer'] ,values=['purchase'], columns=['test'], aggfunc=np.mean)['purchase']\n",
    "table_4['diff'] = table_4[1] - table_4[0]\n",
    "table_4"
   ]
  },
  {
   "cell_type": "markdown",
   "metadata": {},
   "source": [
    "#### d. Comparison 4: Female Gamers vs Male Gamers"
   ]
  },
  {
   "cell_type": "code",
   "execution_count": 11,
   "metadata": {},
   "outputs": [
    {
     "data": {
      "text/html": [
       "<div>\n",
       "<style scoped>\n",
       "    .dataframe tbody tr th:only-of-type {\n",
       "        vertical-align: middle;\n",
       "    }\n",
       "\n",
       "    .dataframe tbody tr th {\n",
       "        vertical-align: top;\n",
       "    }\n",
       "\n",
       "    .dataframe thead th {\n",
       "        text-align: right;\n",
       "    }\n",
       "</style>\n",
       "<table border=\"1\" class=\"dataframe\">\n",
       "  <thead>\n",
       "    <tr style=\"text-align: right;\">\n",
       "      <th>test</th>\n",
       "      <th>0</th>\n",
       "      <th>1</th>\n",
       "      <th>diff</th>\n",
       "    </tr>\n",
       "    <tr>\n",
       "      <th>gender</th>\n",
       "      <th></th>\n",
       "      <th></th>\n",
       "      <th></th>\n",
       "    </tr>\n",
       "  </thead>\n",
       "  <tbody>\n",
       "    <tr>\n",
       "      <th>0</th>\n",
       "      <td>0.032041</td>\n",
       "      <td>0.110092</td>\n",
       "      <td>0.078051</td>\n",
       "    </tr>\n",
       "    <tr>\n",
       "      <th>1</th>\n",
       "      <td>0.037275</td>\n",
       "      <td>0.101404</td>\n",
       "      <td>0.064129</td>\n",
       "    </tr>\n",
       "  </tbody>\n",
       "</table>\n",
       "</div>"
      ],
      "text/plain": [
       "test           0         1      diff\n",
       "gender                              \n",
       "0       0.032041  0.110092  0.078051\n",
       "1       0.037275  0.101404  0.064129"
      ]
     },
     "execution_count": 11,
     "metadata": {},
     "output_type": "execute_result"
    }
   ],
   "source": [
    "table_5 = pd.pivot_table(gamefun[gamefun['gamer']==1], index=['gender'] ,values=['purchase'], columns=['test'], aggfunc=np.mean)['purchase']\n",
    "table_5['diff'] = table_5[1] - table_5[0]\n",
    "table_5"
   ]
  },
  {
   "cell_type": "markdown",
   "metadata": {},
   "source": [
    "### 3. Assess the expected revenue in the test vs. control for the following comparisons"
   ]
  },
  {
   "cell_type": "markdown",
   "metadata": {},
   "source": [
    "#### a. Comparison 1: All customers"
   ]
  },
  {
   "cell_type": "code",
   "execution_count": 12,
   "metadata": {},
   "outputs": [
    {
     "name": "stdout",
     "output_type": "stream",
     "text": [
      "The expected total revenue of test group is 26975.0\n",
      "The expected total revenue of control group is 16237.5\n",
      "The relative percentage increase is -28.8 %\n"
     ]
    }
   ],
   "source": [
    "# For the purchasers in test group, the company has a cost of $25 for each one. \n",
    "# So the revenue of each test purchaser is 12.5.\n",
    "# The revenue of each control purchaser is 37.5 since they don't have the $25 credits.\n",
    "# When calculating the relative increase percentage, I standardized the revenue according to the number of users in test and control group.\n",
    "test_rev = gamefun[(gamefun['test']==1)]['purchase'].sum() * 12.5\n",
    "control_rev = gamefun[(gamefun['test']==0)]['purchase'].sum() * 37.5\n",
    "print(\"The expected total revenue of test group is\",test_rev)\n",
    "print(\"The expected total revenue of control group is\",control_rev)\n",
    "print(\"The relative percentage increase is\", round((test_rev/7-control_rev/3)/(control_rev/3)*100,2) ,\"%\")"
   ]
  },
  {
   "cell_type": "markdown",
   "metadata": {},
   "source": [
    "#### b. Comparison 4: Female Gamers vs Male Gamers"
   ]
  },
  {
   "cell_type": "code",
   "execution_count": 13,
   "metadata": {},
   "outputs": [
    {
     "name": "stdout",
     "output_type": "stream",
     "text": [
      "The expected total revenue of female gamers in test group is  8250.0\n",
      "The expected total revenue of female gamers in control group is  3037.5\n",
      "The relative percentage increase is 16.4 %\n"
     ]
    }
   ],
   "source": [
    "# Female Gamers\n",
    "test_rev_fg = gamefun[(gamefun['test']==1) & (gamefun['gender']==0) & (gamefun['gamer']==1)]['purchase'].sum() * 12.5\n",
    "control_rev_fg = gamefun[(gamefun['test']==0) & (gamefun['gender']==0) & (gamefun['gamer']==1)]['purchase'].sum() * 37.5\n",
    "print(\"The expected total revenue of female gamers in test group is \",test_rev_fg)\n",
    "print(\"The expected total revenue of female gamers in control group is \",control_rev_fg)\n",
    "print(\"The relative percentage increase is\", round((test_rev_fg/7-control_rev_fg/3)/(control_rev_fg/3)*100,2) ,\"%\")"
   ]
  },
  {
   "cell_type": "code",
   "execution_count": 14,
   "metadata": {},
   "outputs": [
    {
     "name": "stdout",
     "output_type": "stream",
     "text": [
      "The expected total revenue of male gamers in test group is  13812.5\n",
      "The expected total revenue of male gamers in control group is  6525.0\n",
      "The relative percentage increase is -9.28 %\n"
     ]
    }
   ],
   "source": [
    "# Male Gamers\n",
    "test_rev_mg = gamefun[(gamefun['test']==1) & (gamefun['gender']==1) & (gamefun['gamer']==1)]['purchase'].sum() * 12.5\n",
    "control_rev_mg = gamefun[(gamefun['test']==0) & (gamefun['gender']==1) & (gamefun['gamer']==1)]['purchase'].sum() * 37.5\n",
    "print(\"The expected total revenue of male gamers in test group is \",test_rev_mg)\n",
    "print(\"The expected total revenue of male gamers in control group is \",control_rev_mg)\n",
    "print(\"The relative percentage increase is\", round((test_rev_mg/7-control_rev_mg/3)/(control_rev_mg/3)*100,2) ,\"%\")"
   ]
  },
  {
   "cell_type": "markdown",
   "metadata": {},
   "source": [
    "### 4. Recommendations to the management team summarizing the expected financial outcome for GameFun"
   ]
  },
  {
   "cell_type": "markdown",
   "metadata": {},
   "source": [
    "Yes, Game Fun should run the promotion in the future but they should only focus on female gamers. \n",
    "\n",
    "According to the A/B test result, the purchase rate increased 4% after promotion for all customers. It is more than doubbled than before. However, in terms of the expected revenue, it decreased around 28.8% which indicates the promotion ads is not a profitable way.\n",
    "\n",
    "From the analysis result from Q2, the promotion effect on purchase rate of male vs. female is similar. But for gamers vs. non-gamers, the t-c difference for non-gamers is negative which means the promotion actually discouraged them to purchase. It's understandable that people don't play games feels annoyed when we show too much game ads to them. \n",
    "\n",
    "Then I explored the male gamers and female gamers additionally. It turns out the promotion effect on purchase rate for the two group are similar(6.4% vs. 7.8%). However for expected revenue, the promotion ads result in 16.4% increase for female gamers but 9.28% decrease for male gamers. Consequently, Game-Fun should focus on female gamers for promotion ads in the future."
   ]
  },
  {
   "cell_type": "markdown",
   "metadata": {},
   "source": [
    "### 5. Further compare the two site on keeping promotion ads for female gamers"
   ]
  },
  {
   "cell_type": "markdown",
   "metadata": {},
   "source": [
    "#### a. Calculate the purchase rate in the two sites for female gamers in Test and Control group seperately"
   ]
  },
  {
   "cell_type": "code",
   "execution_count": 15,
   "metadata": {},
   "outputs": [
    {
     "data": {
      "text/html": [
       "<div>\n",
       "<style scoped>\n",
       "    .dataframe tbody tr th:only-of-type {\n",
       "        vertical-align: middle;\n",
       "    }\n",
       "\n",
       "    .dataframe tbody tr th {\n",
       "        vertical-align: top;\n",
       "    }\n",
       "\n",
       "    .dataframe thead th {\n",
       "        text-align: right;\n",
       "    }\n",
       "</style>\n",
       "<table border=\"1\" class=\"dataframe\">\n",
       "  <thead>\n",
       "    <tr style=\"text-align: right;\">\n",
       "      <th>test</th>\n",
       "      <th>0</th>\n",
       "      <th>1</th>\n",
       "      <th>diff</th>\n",
       "    </tr>\n",
       "    <tr>\n",
       "      <th>site</th>\n",
       "      <th></th>\n",
       "      <th></th>\n",
       "      <th></th>\n",
       "    </tr>\n",
       "  </thead>\n",
       "  <tbody>\n",
       "    <tr>\n",
       "      <th>site1</th>\n",
       "      <td>0.049261</td>\n",
       "      <td>0.146761</td>\n",
       "      <td>0.09750</td>\n",
       "    </tr>\n",
       "    <tr>\n",
       "      <th>site2</th>\n",
       "      <td>0.028746</td>\n",
       "      <td>0.102856</td>\n",
       "      <td>0.07411</td>\n",
       "    </tr>\n",
       "  </tbody>\n",
       "</table>\n",
       "</div>"
      ],
      "text/plain": [
       "test          0         1     diff\n",
       "site                              \n",
       "site1  0.049261  0.146761  0.09750\n",
       "site2  0.028746  0.102856  0.07411"
      ]
     },
     "execution_count": 15,
     "metadata": {},
     "output_type": "execute_result"
    }
   ],
   "source": [
    "table_6 = pd.pivot_table(gamefun[(gamefun['gamer']==1) & (gamefun['gender']==0)], index=['site'] ,values=['purchase'], columns=['test'], aggfunc=np.mean)['purchase']\n",
    "table_6['diff'] = table_6[1] - table_6[0]\n",
    "table_6"
   ]
  },
  {
   "cell_type": "markdown",
   "metadata": {},
   "source": [
    "#### b. The expected revenue for the two site"
   ]
  },
  {
   "cell_type": "code",
   "execution_count": 16,
   "metadata": {},
   "outputs": [
    {
     "name": "stdout",
     "output_type": "stream",
     "text": [
      "The expected revenue of site 1 female gamers in test group is  1812.5\n",
      "The expected revenue of site 1 female gamers in control group is  750.0\n",
      "The relative percentage increase is 3.57 %\n"
     ]
    }
   ],
   "source": [
    "test_rev_1 = gamefun[(gamefun['test']==1) & (gamefun['site']=='site1') & (gamefun['gamer']==1) & (gamefun['gender']==0)]['purchase'].sum() * 12.5\n",
    "control_rev_1 = gamefun[(gamefun['test']==0) & (gamefun['site']=='site1') & (gamefun['gamer']==1) & (gamefun['gender']==0)]['purchase'].sum() * 37.5\n",
    "print(\"The expected revenue of site 1 female gamers in test group is \",test_rev_1)\n",
    "print(\"The expected revenue of site 1 female gamers in control group is \",control_rev_1)\n",
    "print(\"The relative percentage increase is\", round((test_rev_1/7-control_rev_1/3)/(control_rev_1/3)*100,2) ,\"%\")"
   ]
  },
  {
   "cell_type": "code",
   "execution_count": 17,
   "metadata": {},
   "outputs": [
    {
     "name": "stdout",
     "output_type": "stream",
     "text": [
      "The expected revenue of site 2 female gamers in test group is  6437.5\n",
      "The expected revenue of site 2 female gamers in control group is  2287.5\n",
      "The relative percentage increase is 20.61 %\n"
     ]
    }
   ],
   "source": [
    "test_rev_2 = gamefun[(gamefun['test']==1) & (gamefun['site']=='site2') & (gamefun['gamer']==1) & (gamefun['gender']==0)]['purchase'].sum() * 12.5\n",
    "control_rev_2 = gamefun[(gamefun['test']==0) & (gamefun['site']=='site2') & (gamefun['gamer']==1) & (gamefun['gender']==0)]['purchase'].sum() * 37.5\n",
    "print(\"The expected revenue of site 2 female gamers in test group is \",test_rev_2)\n",
    "print(\"The expected revenue of site 2 female gamers in control group is \",control_rev_2)\n",
    "print(\"The relative percentage increase is\", round((test_rev_2/7-control_rev_2/3)/(control_rev_2/3)*100,2) ,\"%\")"
   ]
  },
  {
   "cell_type": "markdown",
   "metadata": {},
   "source": [
    "#### c. Conclusion for comparing the two site"
   ]
  },
  {
   "cell_type": "markdown",
   "metadata": {},
   "source": [
    "As we can see, the promotion effect on the purchase rate for female gamers(as we have decided to focus on female gamers) in the two sites is 9.7% and 7.4% respectively. In addition, the promotion has raised 3.57% and 20.61% for the expected revenue on site 1 and 2 respectively. We could say that the promotion ads for site 2 is more effective so we could focus more on this site. However, of course we should take the ads cost into consideration to evaluate ROI from both sites to make final desicion."
   ]
  }
 ],
 "metadata": {
  "kernelspec": {
   "display_name": "Python 3",
   "language": "python",
   "name": "python3"
  },
  "language_info": {
   "codemirror_mode": {
    "name": "ipython",
    "version": 3
   },
   "file_extension": ".py",
   "mimetype": "text/x-python",
   "name": "python",
   "nbconvert_exporter": "python",
   "pygments_lexer": "ipython3",
   "version": "3.7.3"
  }
 },
 "nbformat": 4,
 "nbformat_minor": 4
}
